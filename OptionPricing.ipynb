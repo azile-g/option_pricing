{
  "nbformat": 4,
  "nbformat_minor": 0,
  "metadata": {
    "colab": {
      "name": "OptionPricing.ipynb",
      "provenance": [],
      "collapsed_sections": [],
      "authorship_tag": "ABX9TyOoR6rr+6QKVNb/p/r64cCm",
      "include_colab_link": true
    },
    "kernelspec": {
      "name": "python3",
      "display_name": "Python 3"
    },
    "language_info": {
      "name": "python"
    }
  },
  "cells": [
    {
      "cell_type": "markdown",
      "metadata": {
        "id": "view-in-github",
        "colab_type": "text"
      },
      "source": [
        "<a href=\"https://colab.research.google.com/github/azile-g/option_pricing/blob/main/OptionPricing.ipynb\" target=\"_parent\"><img src=\"https://colab.research.google.com/assets/colab-badge.svg\" alt=\"Open In Colab\"/></a>"
      ]
    },
    {
      "cell_type": "code",
      "metadata": {
        "id": "O2uZ_7C5v7kw"
      },
      "source": [
        "import numpy as np \n",
        "from math import floor, exp"
      ],
      "execution_count": null,
      "outputs": []
    },
    {
      "cell_type": "code",
      "metadata": {
        "id": "hI8bwaCtwHOh"
      },
      "source": [
        "class initialising: \n",
        "    def __init__(self, S, K, r, q, T, sigma): \n",
        "        self.T = float(T)/12 #expiry time (input in months converted to year)\n",
        "        self.r = float(r)/100 #risk-free rate (input in percentage converted to dp)\n",
        "        self.sigma = float(sigma) #volatility \n",
        "        self.K = float(K) #Strike price \n",
        "        self.q = float(q) #dividend\n",
        "        self.S = float(S) #underlying stock price"
      ],
      "execution_count": null,
      "outputs": []
    },
    {
      "cell_type": "code",
      "metadata": {
        "id": "CXhq0TodwMxm"
      },
      "source": [
        "class Option_Pricing (initialising): \n",
        "\n",
        "    def explicit(self, M, N):\n",
        "        #Step 1: Discretisation \n",
        "        S_max = self.K*2\n",
        "        dt = self.T/N\n",
        "        ds = S_max/M \n",
        "        \n",
        "        #step 2:\n",
        "        matrix_call = np.zeros((M+1, N+1)) # Create F_i\n",
        "        matrix_put = np.zeros((M+1, N+1))\n",
        "        N_array = np.arange(M+1)\n",
        "        matrix_call[:,N]= np.maximum(N_array * ds - self.K,0) # Step 2, to compute F(N,j)\n",
        "        matrix_put[:,N]= np.maximum(self.K - N_array * ds,0)\n",
        "\n",
        "        #Step 3:\n",
        "        #Compute matrix A\n",
        "        A = np.zeros((M+1, M+1))\n",
        "        A[0, 0] = 1\n",
        "        for j in range(1, M):\n",
        "            A[j, j-1] = 0.5*(dt)*(self.sigma**2*j**2-(self.r-self.q)*j)\n",
        "            A[j, j] = 1-dt*(self.sigma**2*j**2+self.r)\n",
        "            A[j, j+1] = 0.5*(dt)*(self.sigma**2*j**2+(self.r-self.q)*j)\n",
        "        A[M, M] = 1\n",
        "\n",
        "        #Step 4: Compute F_i \n",
        "        for i in range(N-1,-1,-1): \n",
        "            # Step 3.1 for call\n",
        "            matrix_call[:, i] =np.dot(A, matrix_call[:, i+1])\n",
        "            # Can also use matrix_call[:, [i]] = A@ matrix_call[:, [i+1]]  Calculate F_hat_i from i=N-1\n",
        "            # Step 3.2 for call\n",
        "            matrix_call[0, i] = 0 # Assign 0 to the first row of F_i            \n",
        "            matrix_call[-1, i] = S_max-self.K *exp(-self.r*(N-i)*(dt)) # Assign S_max-E*math.exp(-r*(N-i)*(dt)) to the last row of F_i \n",
        "            # Step 3.1 for put\n",
        "            matrix_put[:, i] =np.dot(A, matrix_put[:, i+1])\n",
        "            # Step 3.2 for put\n",
        "            matrix_put[-1, i] = 0 # Assign 0 to the first row of F_i            \n",
        "            matrix_put[0, i] = self.K * exp(-self.r*(N-i)*(dt)) # Assign K*math.exp(-r*(N-i)*(dt)) to the first row of F_i  \n",
        "            \n",
        "        #Step 5: \n",
        "        #Find k\n",
        "        k = floor(self.S/ds)\n",
        "\n",
        "        #Option price \n",
        "        call_price = matrix_call[k, 0] + ((matrix_call[k+1,0]-matrix_call[k,0])/ds)*(self.S-k*ds)\n",
        "        put_price = matrix_put[k, 0] + ((matrix_put[k+1,0]-matrix_put[k,0])/ds)*(self.S-k*ds)\n",
        "\n",
        "        return {'call':call_price,'put':put_price}"
      ],
      "execution_count": null,
      "outputs": []
    }
  ]
}